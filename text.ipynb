{
 "cells": [
  {
   "cell_type": "code",
   "execution_count": 65,
   "metadata": {},
   "outputs": [],
   "source": [
    "import pandas as pd\n",
    "import csv"
   ]
  },
  {
   "cell_type": "code",
   "execution_count": 66,
   "metadata": {},
   "outputs": [],
   "source": [
    "class Vocab:\n",
    "    def add_words(self, word, mean):\n",
    "        new_row = [word, mean]\n",
    "        with open(\"words.csv\", mode=\"a\", newline=\"\") as file:\n",
    "            writer = csv.writer(file)\n",
    "            writer.writerow(new_row)\n",
    "\n",
    "    def see(self):\n",
    "        df = pd.read_csv(\"words.csv\")\n",
    "        print(df)\n",
    "\n",
    "    def check(self, new_word):\n",
    "        df = pd.read_csv(\"words.csv\")\n",
    "        for i in df[\"Words\"]:\n",
    "            if i == new_word:\n",
    "                return True\n",
    "        return False\n",
    "\n",
    "    def good_Morning(self, n):\n",
    "        df = pd.read_csv(\"words.csv\")\n",
    "        if len(df) > n:\n",
    "            print(df.iloc[: int(len(df) * 0.6), :].sample(int(0.6 * n)))\n",
    "            print()\n",
    "            print(df.iloc[int(len(df) * 0.6) :, :].sample(int(0.4 * n)))\n",
    "        else:\n",
    "            print(df)"
   ]
  },
  {
   "cell_type": "code",
   "execution_count": 67,
   "metadata": {},
   "outputs": [],
   "source": [
    "Word = Vocab()\n",
    "Word.add_words(\"Abject\", \"Miserable\")\n",
    "Word.add_words(\"Ab normal\", \"Not Normal\")\n",
    "Word.add_words(\"Debility\", \"Physical Weakness\")\n",
    "Word.add_words(\"Elucidate\", \"To make Clear\")\n",
    "Word.add_words(\"Forsake\", \"To abondan\")\n",
    "Word.add_words(\"Houghty\", \"Proud\")\n",
    "Word.add_words(\"Knotty\", \"Puzzling\")\n",
    "Word.add_words(\"Macabre\", \"Horrible\")"
   ]
  },
  {
   "cell_type": "code",
   "execution_count": 68,
   "metadata": {},
   "outputs": [
    {
     "name": "stdout",
     "output_type": "stream",
     "text": [
      "       Words        Meaning\n",
      "3  Elucidate  To make Clear\n",
      "6     Knotty       Puzzling\n",
      "5    Houghty          Proud\n",
      "8     Abject      Miserable\n",
      "4    Forsake     To abondan\n",
      "1  Ab normal     Not Normal\n",
      "\n",
      "        Words        Meaning\n",
      "14     Knotty       Puzzling\n",
      "13    Houghty          Proud\n",
      "9   Ab normal     Not Normal\n",
      "11  Elucidate  To make Clear\n"
     ]
    }
   ],
   "source": [
    "Word.good_Morning(10)"
   ]
  },
  {
   "cell_type": "code",
   "execution_count": null,
   "metadata": {},
   "outputs": [],
   "source": []
  },
  {
   "cell_type": "code",
   "execution_count": null,
   "metadata": {},
   "outputs": [],
   "source": []
  }
 ],
 "metadata": {
  "kernelspec": {
   "display_name": "Python 3",
   "language": "python",
   "name": "python3"
  },
  "language_info": {
   "codemirror_mode": {
    "name": "ipython",
    "version": 3
   },
   "file_extension": ".py",
   "mimetype": "text/x-python",
   "name": "python",
   "nbconvert_exporter": "python",
   "pygments_lexer": "ipython3",
   "version": "3.11.3"
  }
 },
 "nbformat": 4,
 "nbformat_minor": 2
}
